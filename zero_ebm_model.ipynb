<!DOCTYPE html>

<html  dir="ltr" lang="de" xml:lang="de">
<head>
    <title>Hier können Sie sich anmelden | MIN-Moodle</title>
    <link rel="shortcut icon" href="https://lernen.min.uni-hamburg.de/theme/image.php/uhh/theme/1713524257/favicon" />
    <meta http-equiv="Content-Type" content="text/html; charset=utf-8" />
<meta name="keywords" content="moodle, Hier können Sie sich anmelden | MIN-Moodle" />
<link rel="stylesheet" type="text/css" href="https://lernen.min.uni-hamburg.de/theme/yui_combo.php?rollup/3.18.1/yui-moodlesimple-min.css" /><script id="firstthemesheet" type="text/css">/** Required in order to fix style inclusion problems in IE with YUI **/</script><link rel="stylesheet" type="text/css" href="https://lernen.min.uni-hamburg.de/theme/styles.php/uhh/1713524257_1688440663/all" />
<script>
//<![CDATA[
var M = {}; M.yui = {};
M.pageloadstarttime = new Date();
M.cfg = {"wwwroot":"https:\/\/lernen.min.uni-hamburg.de","homeurl":{},"sesskey":"4hhoOUjl4f","sessiontimeout":"7200","sessiontimeoutwarning":"3600","themerev":"1713524257","slasharguments":1,"theme":"uhh","iconsystemmodule":"core\/icon_system_fontawesome","jsrev":"1713524257","admin":"admin","svgicons":true,"usertimezone":"Europa\/Berlin","language":"de","courseId":1,"courseContextId":2,"contextid":1,"contextInstanceId":0,"langrev":1713840278,"templaterev":"1713524257"};var yui1ConfigFn = function(me) {if(/-skin|reset|fonts|grids|base/.test(me.name)){me.type='css';me.path=me.path.replace(/\.js/,'.css');me.path=me.path.replace(/\/yui2-skin/,'/assets/skins/sam/yui2-skin')}};
var yui2ConfigFn = function(me) {var parts=me.name.replace(/^moodle-/,'').split('-'),component=parts.shift(),module=parts[0],min='-min';if(/-(skin|core)$/.test(me.name)){parts.pop();me.type='css';min=''}
if(module){var filename=parts.join('-');me.path=component+'/'+module+'/'+filename+min+'.'+me.type}else{me.path=component+'/'+component+'.'+me.type}};
YUI_config = {"debug":false,"base":"https:\/\/lernen.min.uni-hamburg.de\/lib\/yuilib\/3.18.1\/","comboBase":"https:\/\/lernen.min.uni-hamburg.de\/theme\/yui_combo.php?","combine":true,"filter":null,"insertBefore":"firstthemesheet","groups":{"yui2":{"base":"https:\/\/lernen.min.uni-hamburg.de\/lib\/yuilib\/2in3\/2.9.0\/build\/","comboBase":"https:\/\/lernen.min.uni-hamburg.de\/theme\/yui_combo.php?","combine":true,"ext":false,"root":"2in3\/2.9.0\/build\/","patterns":{"yui2-":{"group":"yui2","configFn":yui1ConfigFn}}},"moodle":{"name":"moodle","base":"https:\/\/lernen.min.uni-hamburg.de\/theme\/yui_combo.php?m\/1713524257\/","combine":true,"comboBase":"https:\/\/lernen.min.uni-hamburg.de\/theme\/yui_combo.php?","ext":false,"root":"m\/1713524257\/","patterns":{"moodle-":{"group":"moodle","configFn":yui2ConfigFn}},"filter":null,"modules":{"moodle-core-handlebars":{"condition":{"trigger":"handlebars","when":"after"}},"moodle-core-event":{"requires":["event-custom"]},"moodle-core-notification":{"requires":["moodle-core-notification-dialogue","moodle-core-notification-alert","moodle-core-notification-confirm","moodle-core-notification-exception","moodle-core-notification-ajaxexception"]},"moodle-core-notification-dialogue":{"requires":["base","node","panel","escape","event-key","dd-plugin","moodle-core-widget-focusafterclose","moodle-core-lockscroll"]},"moodle-core-notification-alert":{"requires":["moodle-core-notification-dialogue"]},"moodle-core-notification-confirm":{"requires":["moodle-core-notification-dialogue"]},"moodle-core-notification-exception":{"requires":["moodle-core-notification-dialogue"]},"moodle-core-notification-ajaxexception":{"requires":["moodle-core-notification-dialogue"]},"moodle-core-formchangechecker":{"requires":["base","event-focus","moodle-core-event"]},"moodle-core-actionmenu":{"requires":["base","event","node-event-simulate"]},"moodle-core-blocks":{"requires":["base","node","io","dom","dd","dd-scroll","moodle-core-dragdrop","moodle-core-notification"]},"moodle-core-lockscroll":{"requires":["plugin","base-build"]},"moodle-core-dragdrop":{"requires":["base","node","io","dom","dd","event-key","event-focus","moodle-core-notification"]},"moodle-core-maintenancemodetimer":{"requires":["base","node"]},"moodle-core-chooserdialogue":{"requires":["base","panel","moodle-core-notification"]},"moodle-core_availability-form":{"requires":["base","node","event","event-delegate","panel","moodle-core-notification-dialogue","json"]},"moodle-backup-backupselectall":{"requires":["node","event","node-event-simulate","anim"]},"moodle-course-categoryexpander":{"requires":["node","event-key"]},"moodle-course-util":{"requires":["node"],"use":["moodle-course-util-base"],"submodules":{"moodle-course-util-base":{},"moodle-course-util-section":{"requires":["node","moodle-course-util-base"]},"moodle-course-util-cm":{"requires":["node","moodle-course-util-base"]}}},"moodle-course-dragdrop":{"requires":["base","node","io","dom","dd","dd-scroll","moodle-core-dragdrop","moodle-core-notification","moodle-course-coursebase","moodle-course-util"]},"moodle-course-management":{"requires":["base","node","io-base","moodle-core-notification-exception","json-parse","dd-constrain","dd-proxy","dd-drop","dd-delegate","node-event-delegate"]},"moodle-form-dateselector":{"requires":["base","node","overlay","calendar"]},"moodle-form-shortforms":{"requires":["node","base","selector-css3","moodle-core-event"]},"moodle-question-preview":{"requires":["base","dom","event-delegate","event-key","core_question_engine"]},"moodle-question-chooser":{"requires":["moodle-core-chooserdialogue"]},"moodle-question-searchform":{"requires":["base","node"]},"moodle-availability_completion-form":{"requires":["base","node","event","moodle-core_availability-form"]},"moodle-availability_date-form":{"requires":["base","node","event","io","moodle-core_availability-form"]},"moodle-availability_grade-form":{"requires":["base","node","event","moodle-core_availability-form"]},"moodle-availability_group-form":{"requires":["base","node","event","moodle-core_availability-form"]},"moodle-availability_grouping-form":{"requires":["base","node","event","moodle-core_availability-form"]},"moodle-availability_profile-form":{"requires":["base","node","event","moodle-core_availability-form"]},"moodle-mod_assign-history":{"requires":["node","transition"]},"moodle-mod_attendance-groupfilter":{"requires":["base","node"]},"moodle-mod_quiz-quizbase":{"requires":["base","node"]},"moodle-mod_quiz-dragdrop":{"requires":["base","node","io","dom","dd","dd-scroll","moodle-core-dragdrop","moodle-core-notification","moodle-mod_quiz-quizbase","moodle-mod_quiz-util-base","moodle-mod_quiz-util-page","moodle-mod_quiz-util-slot","moodle-course-util"]},"moodle-mod_quiz-toolboxes":{"requires":["base","node","event","event-key","io","moodle-mod_quiz-quizbase","moodle-mod_quiz-util-slot","moodle-core-notification-ajaxexception"]},"moodle-mod_quiz-util":{"requires":["node","moodle-core-actionmenu"],"use":["moodle-mod_quiz-util-base"],"submodules":{"moodle-mod_quiz-util-base":{},"moodle-mod_quiz-util-slot":{"requires":["node","moodle-mod_quiz-util-base"]},"moodle-mod_quiz-util-page":{"requires":["node","moodle-mod_quiz-util-base"]}}},"moodle-mod_quiz-autosave":{"requires":["base","node","event","event-valuechange","node-event-delegate","io-form"]},"moodle-mod_quiz-questionchooser":{"requires":["moodle-core-chooserdialogue","moodle-mod_quiz-util","querystring-parse"]},"moodle-mod_quiz-modform":{"requires":["base","node","event"]},"moodle-mod_scheduler-delselected":{"requires":["base","node","event"]},"moodle-mod_scheduler-saveseen":{"requires":["base","node","event"]},"moodle-mod_scheduler-studentlist":{"requires":["base","node","event","io"]},"moodle-message_airnotifier-toolboxes":{"requires":["base","node","io"]},"moodle-filter_glossary-autolinker":{"requires":["base","node","io-base","json-parse","event-delegate","overlay","moodle-core-event","moodle-core-notification-alert","moodle-core-notification-exception","moodle-core-notification-ajaxexception"]},"moodle-editor_atto-rangy":{"requires":[]},"moodle-editor_atto-editor":{"requires":["node","transition","io","overlay","escape","event","event-simulate","event-custom","node-event-html5","node-event-simulate","yui-throttle","moodle-core-notification-dialogue","moodle-editor_atto-rangy","handlebars","timers","querystring-stringify"]},"moodle-editor_atto-plugin":{"requires":["node","base","escape","event","event-outside","handlebars","event-custom","timers","moodle-editor_atto-menu"]},"moodle-editor_atto-menu":{"requires":["moodle-core-notification-dialogue","node","event","event-custom"]},"moodle-report_eventlist-eventfilter":{"requires":["base","event","node","node-event-delegate","datatable","autocomplete","autocomplete-filters"]},"moodle-report_loglive-fetchlogs":{"requires":["base","event","node","io","node-event-delegate"]},"moodle-gradereport_history-userselector":{"requires":["escape","event-delegate","event-key","handlebars","io-base","json-parse","moodle-core-notification-dialogue"]},"moodle-qbank_editquestion-chooser":{"requires":["moodle-core-chooserdialogue"]},"moodle-tool_lp-dragdrop-reorder":{"requires":["moodle-core-dragdrop"]},"moodle-assignfeedback_editpdf-editor":{"requires":["base","event","node","io","graphics","json","event-move","event-resize","transition","querystring-stringify-simple","moodle-core-notification-dialog","moodle-core-notification-alert","moodle-core-notification-warning","moodle-core-notification-exception","moodle-core-notification-ajaxexception"]},"moodle-atto_accessibilitychecker-button":{"requires":["color-base","moodle-editor_atto-plugin"]},"moodle-atto_accessibilityhelper-button":{"requires":["moodle-editor_atto-plugin"]},"moodle-atto_align-button":{"requires":["moodle-editor_atto-plugin"]},"moodle-atto_bold-button":{"requires":["moodle-editor_atto-plugin"]},"moodle-atto_charmap-button":{"requires":["moodle-editor_atto-plugin"]},"moodle-atto_clear-button":{"requires":["moodle-editor_atto-plugin"]},"moodle-atto_collapse-button":{"requires":["moodle-editor_atto-plugin"]},"moodle-atto_emojipicker-button":{"requires":["moodle-editor_atto-plugin"]},"moodle-atto_emoticon-button":{"requires":["moodle-editor_atto-plugin"]},"moodle-atto_equation-button":{"requires":["moodle-editor_atto-plugin","moodle-core-event","io","event-valuechange","tabview","array-extras"]},"moodle-atto_h5p-button":{"requires":["moodle-editor_atto-plugin"]},"moodle-atto_html-button":{"requires":["promise","moodle-editor_atto-plugin","moodle-atto_html-beautify","moodle-atto_html-codemirror","event-valuechange"]},"moodle-atto_html-beautify":{},"moodle-atto_html-codemirror":{"requires":["moodle-atto_html-codemirror-skin"]},"moodle-atto_image-button":{"requires":["moodle-editor_atto-plugin"]},"moodle-atto_indent-button":{"requires":["moodle-editor_atto-plugin"]},"moodle-atto_italic-button":{"requires":["moodle-editor_atto-plugin"]},"moodle-atto_link-button":{"requires":["moodle-editor_atto-plugin"]},"moodle-atto_managefiles-usedfiles":{"requires":["node","escape"]},"moodle-atto_managefiles-button":{"requires":["moodle-editor_atto-plugin"]},"moodle-atto_media-button":{"requires":["moodle-editor_atto-plugin","moodle-form-shortforms"]},"moodle-atto_noautolink-button":{"requires":["moodle-editor_atto-plugin"]},"moodle-atto_orderedlist-button":{"requires":["moodle-editor_atto-plugin"]},"moodle-atto_recordrtc-button":{"requires":["moodle-editor_atto-plugin","moodle-atto_recordrtc-recording"]},"moodle-atto_recordrtc-recording":{"requires":["moodle-atto_recordrtc-button"]},"moodle-atto_rtl-button":{"requires":["moodle-editor_atto-plugin"]},"moodle-atto_strike-button":{"requires":["moodle-editor_atto-plugin"]},"moodle-atto_subscript-button":{"requires":["moodle-editor_atto-plugin"]},"moodle-atto_superscript-button":{"requires":["moodle-editor_atto-plugin"]},"moodle-atto_table-button":{"requires":["moodle-editor_atto-plugin","moodle-editor_atto-menu","event","event-valuechange"]},"moodle-atto_title-button":{"requires":["moodle-editor_atto-plugin"]},"moodle-atto_underline-button":{"requires":["moodle-editor_atto-plugin"]},"moodle-atto_undo-button":{"requires":["moodle-editor_atto-plugin"]},"moodle-atto_unorderedlist-button":{"requires":["moodle-editor_atto-plugin"]}}},"gallery":{"name":"gallery","base":"https:\/\/lernen.min.uni-hamburg.de\/lib\/yuilib\/gallery\/","combine":true,"comboBase":"https:\/\/lernen.min.uni-hamburg.de\/theme\/yui_combo.php?","ext":false,"root":"gallery\/1713524257\/","patterns":{"gallery-":{"group":"gallery"}}}},"modules":{"core_filepicker":{"name":"core_filepicker","fullpath":"https:\/\/lernen.min.uni-hamburg.de\/lib\/javascript.php\/1713524257\/repository\/filepicker.js","requires":["base","node","node-event-simulate","json","async-queue","io-base","io-upload-iframe","io-form","yui2-treeview","panel","cookie","datatable","datatable-sort","resize-plugin","dd-plugin","escape","moodle-core_filepicker","moodle-core-notification-dialogue"]},"core_comment":{"name":"core_comment","fullpath":"https:\/\/lernen.min.uni-hamburg.de\/lib\/javascript.php\/1713524257\/comment\/comment.js","requires":["base","io-base","node","json","yui2-animation","overlay","escape"]}},"logInclude":[],"logExclude":[],"logLevel":null};
M.yui.loader = {modules: {}};

//]]>
</script>

<meta name="moodle-validation" content="486ba0020333334fec917f35b8dd1238" /><meta name="robots" content="noindex" />
    <meta name="viewport" content="width=device-width, initial-scale=1.0">
</head>

<body  id="page-login-index" class="format-site  path-login dir-ltr lang-de yui-skin-sam yui3-skin-sam lernen-min-uni-hamburg-de pagelayout-login course-1 context-1 notloggedin theme ">
<div class="toast-wrapper mx-auto py-0 fixed-top" role="status" aria-live="polite"></div>

<div id="page-wrapper">

    <div>
    <a class="sr-only sr-only-focusable" href="#maincontent">Zum Hauptinhalt</a>
</div><script src="https://lernen.min.uni-hamburg.de/lib/javascript.php/1713524257/lib/polyfills/polyfill.js"></script>
<script src="https://lernen.min.uni-hamburg.de/theme/yui_combo.php?rollup/3.18.1/yui-moodlesimple-min.js"></script><script src="https://lernen.min.uni-hamburg.de/lib/javascript.php/1713524257/lib/javascript-static.js"></script>
<script>
//<![CDATA[
document.body.className += ' jsenabled';
//]]>
</script>



    <div id="page" class="container-fluid pt-5 mt-0">
        <div id="page-content" class="row">
            <div id="region-main-box" class="col-12">
                <section id="region-main" class="col-12 h-100" aria-label="Inhalt">
                <div class="login-wrapper">
                    <div class="login-container">
                    <div role="main"><span id="maincontent"></span><div class="loginform">
        <h1 class="login-heading mb-4">Login bei 'MIN-Moodle'</h1>
            <a class="btn login-identityprovider-btn btn-primary btn-lg btn-block" href="https://lernen.min.uni-hamburg.de/auth/saml2/login.php?wants=https%3A%2F%2Flernen.min.uni-hamburg.de%2Fpluginfile.php%2F383287%2Fmod_resource%2Fcontent%2F1%2Fzero_ebm_model.ipynb&amp;idp=fd48df58bc902c074e7e5b480e5dec42&amp;passive=off">
                    <img src="https://login.uni-hamburg.de/idp/images/UHH-Logo.svg" alt="Logo des Identitätsmanagement-Anbieters"/>
                UHH Login
            </a>
    <a class="btn btn-secondary btn-lg btn-block" data-toggle="collapse" href="#login-local" role="button" aria-expanded="false" aria-controls="login-local">
        Anmeldung mit lokalem Moodlekonto
    </a>
    <div class="collapse" id="login-local">
        <div class="login-divider"></div>
        <h2 class="login-heading">Anmeldung mit lokalem Moodlekonto</h2>
        <p>Sollten Sie kein Konto bei den oben gelisteten Universitäten besitzen, können Sie sich mit Ihrem lokalen Konto anmelden.</p>
        <form class="login-form" action="https://lernen.min.uni-hamburg.de/login/index.php" method="post" id="login">
            <input id="anchor" type="hidden" name="anchor" value="">
            <script>document.getElementById('anchor').value = location.hash;</script>
            <input type="hidden" name="logintoken" value="gOvbUm84fePppyqHaO80rQFLhJg5ECKG">
            <div class="login-form-username form-group">
                <label for="username" class="sr-only">
                        Anmeldename
                </label>
                <input type="text" name="username" id="username" class="form-control form-control-lg" value="" placeholder="Anmeldename" autocomplete="username">
            </div>
            <div class="login-form-password form-group">
                <label for="password" class="sr-only">Kennwort</label>
                <input type="password" name="password" id="password" value="" class="form-control form-control-lg" placeholder="Kennwort" autocomplete="current-password">
            </div>
            <div class="login-form-submit form-group">
                <button class="btn btn-primary btn-lg" type="submit" id="loginbtn">Login</button>
            </div>
            <div class="login-form-forgotpassword form-group">
                <a href="https://lernen.min.uni-hamburg.de/login/forgot_password.php">Kennwort vergessen?</a>
            </div>
        </form>
    </div>
    <div class="login-divider"></div>
    <div class="d-flex">
            <div class="login-languagemenu">
                <div class="action-menu moodle-actionmenu" id="action-menu-0" data-enhance="moodle-core-actionmenu">
                
                        <div class="menubar d-flex " id="action-menu-0-menubar">
                
                            
                
                
                                <div class="action-menu-trigger">
                                    <div class="dropdown">
                                        <a
                                            href="#"
                                            tabindex="0"
                                            class=" dropdown-toggle icon-no-margin"
                                            id="action-menu-toggle-0"
                                            aria-label="Deutsch ‎(de)‎"
                                            data-toggle="dropdown"
                                            role="button"
                                            aria-haspopup="true"
                                            aria-expanded="false"
                                            aria-controls="action-menu-0-menu"
                                        >
                                            
                                            Deutsch ‎(de)‎
                                                
                                            <b class="caret"></b>
                                        </a>
                                            <div class="dropdown-menu menu dropdown-menu-right" id="action-menu-0-menu" data-rel="menu-content" aria-labelledby="action-menu-toggle-0" role="menu">
                                                                                                <a href="#" class="dropdown-item menu-action" role="menuitem" tabindex="-1" >
                                                <span class="menu-action-text">Deutsch ‎(de)‎</span>
                                        </a>
                                                                                                <a href="https://lernen.min.uni-hamburg.de/login/index.php?lang=en" class="dropdown-item menu-action" data-lang="en" lang="en" role="menuitem" tabindex="-1" >
                                                <span class="menu-action-text">English ‎(en)‎</span>
                                        </a>
                                            </div>
                                    </div>
                                </div>
                
                        </div>
                
                </div>
            </div>
            <div class="divider border-left align-self-center mx-3"></div>
        <button type="button" class="btn btn-secondary"  data-modal="alert" data-modal-title-str='["cookiesenabled", "core"]'  data-modal-content-str='["cookiesenabled_help_html", "core"]'>Cookie-Hinweis</button>
    </div>
</div></div>
                    </div>
                </div>
                </section>
            </div>
        </div>
    </div>
    <footer id="page-footer" class="py-3 bg-dark text-light">
        <div class="container">
            <div class="row justify-content-between">
                <div class="col-md-auto">
                    <div id="course-footer"></div>
                    <div class="tool_usertours-resettourcontainer"></div>
                    <div class="tool_dataprivacy"><a href="https://lernen.min.uni-hamburg.de/admin/tool/dataprivacy/summary.php">Unsere Datenlöschfristen</a></div><div class="policiesfooter"><a href="https://lernen.min.uni-hamburg.de/admin/tool/policy/viewall.php?returnurl=https%3A%2F%2Flernen.min.uni-hamburg.de%2Flogin%2Findex.php">Datenschutzinfos</a></div>
                    <script>
//<![CDATA[
var require = {
    baseUrl : 'https://lernen.min.uni-hamburg.de/lib/requirejs.php/1713524257/',
    // We only support AMD modules with an explicit define() statement.
    enforceDefine: true,
    skipDataMain: true,
    waitSeconds : 0,

    paths: {
        jquery: 'https://lernen.min.uni-hamburg.de/lib/javascript.php/1713524257/lib/jquery/jquery-3.7.1.min',
        jqueryui: 'https://lernen.min.uni-hamburg.de/lib/javascript.php/1713524257/lib/jquery/ui-1.13.2/jquery-ui.min',
        jqueryprivate: 'https://lernen.min.uni-hamburg.de/lib/javascript.php/1713524257/lib/requirejs/jquery-private'
    },

    // Custom jquery config map.
    map: {
      // '*' means all modules will get 'jqueryprivate'
      // for their 'jquery' dependency.
      '*': { jquery: 'jqueryprivate' },
      // Stub module for 'process'. This is a workaround for a bug in MathJax (see MDL-60458).
      '*': { process: 'core/first' },

      // 'jquery-private' wants the real jQuery module
      // though. If this line was not here, there would
      // be an unresolvable cyclic dependency.
      jqueryprivate: { jquery: 'jquery' }
    }
};

//]]>
</script>
<script src="https://lernen.min.uni-hamburg.de/lib/javascript.php/1713524257/lib/requirejs/require.min.js"></script>
<script>
//<![CDATA[
M.util.js_pending("core/first");
require(['core/first'], function() {
require(['core/prefetch'])
;
M.util.js_pending('filter_mathjaxloader/loader'); require(['filter_mathjaxloader/loader'], function(amd) {amd.configure({"mathjaxconfig":" MathJax.Hub.Config({\r\n\r\nconfig: [\"Accessible.js\", \"Safe.js\"],\r\nerrorSettings: { message: [\"!\"] },\r\nskipStartupTypeset: true,\r\nmessageStyle: \"none\",\r\ntex2jax:{\r\ndisplayMath: [[\"\\\\[\",\"\\\\]\"]],\r\ninlineMath: [[\"$$\",\"$$\"],[\"\\\\(\",\"\\\\)\"]],\r\nprocessEscapes: true,\r\n        ignoreClass: [\"editor_atto_content\", \"foo\"]\r\n},\r\nTeX: { equationNumbers: { autoNumber: \"AMS\" } }\r\n});","lang":"de"}); M.util.js_complete('filter_mathjaxloader/loader');});;
require(["media_videojs/loader"], function(loader) {
    loader.setUp('de');
});;


require(['jquery', 'tool_policy/jquery-eu-cookie-law-popup', 'tool_policy/policyactions'], function($, Popup, ActionsMod) {
        // Initialise the guest popup.
        $(document).ready(function() {
            // Only show message if there is some policy related to guests.
                // Get localised messages.
                var textmessage = "Wenn Sie weiter auf dieser Webseite arbeiten möchten, bestätigen Sie bitte unsere Nutzungsrichtlinie:" +
                   "<ul>" +
                   "<li>" +
                   "<a href=\"https://lernen.min.uni-hamburg.de/admin/tool/policy/view.php?versionid=1&amp;returnurl=https%3A%2F%2Flernen.min.uni-hamburg.de%2Flogin%2Findex.php\" " +
                   "   data-action=\"view-guest\" data-versionid=\"1\" data-behalfid=\"1\" >" +
                   "Nutzungsbedingungen" +
                   "</a>" +
                   "</li>" +
                   "" +
                   "<li>" +
                   "<a href=\"https://lernen.min.uni-hamburg.de/admin/tool/policy/view.php?versionid=3&amp;returnurl=https%3A%2F%2Flernen.min.uni-hamburg.de%2Flogin%2Findex.php\" " +
                   "   data-action=\"view-guest\" data-versionid=\"3\" data-behalfid=\"1\" >" +
                   "Datenschutzerklärung" +
                   "</a>" +
                   "</li>" +
                   "" +
                   "</ul>";
                var continuemessage = "Fortsetzen";

                // Initialize popup.
                $(document.body).addClass('eupopup');
                if ($(".eupopup").length > 0) {
                    $(document).euCookieLawPopup().init({
                        popupPosition: 'bottom',
                        popupTitle: '',
                        popupText: textmessage,
                        buttonContinueTitle: continuemessage,
                        buttonLearnmoreTitle: '',
                        compactStyle: true,
                    });
                }

            // Initialise the JS for the modal window which displays the policy versions.
            ActionsMod.init('[data-action="view-guest"]');
        });
});

;

M.util.js_pending('theme_boost/loader');
require(['theme_boost/loader'], function() {
  M.util.js_complete('theme_boost/loader');
});
;

    require(['core_form/submit'], function(Submit) {
        Submit.init("loginbtn");
    });
;
M.util.js_pending('core/notification'); require(['core/notification'], function(amd) {amd.init(1, []); M.util.js_complete('core/notification');});;
M.util.js_pending('core/log'); require(['core/log'], function(amd) {amd.setConfig({"level":"warn"}); M.util.js_complete('core/log');});;
M.util.js_pending('core/page_global'); require(['core/page_global'], function(amd) {amd.init(); M.util.js_complete('core/page_global');});;
M.util.js_pending('core/utility'); require(['core/utility'], function(amd) {M.util.js_complete('core/utility');});
    M.util.js_complete("core/first");
});
//]]>
</script>
<script src="https://lernen.min.uni-hamburg.de/mathjax/MathJax.js?delayStartupUntil=configured"></script>
<script src="https://lernen.min.uni-hamburg.de/theme/javascript.php/uhh/1713524257/footer"></script>
<script>
//<![CDATA[
M.str = {"moodle":{"lastmodified":"Zuletzt ge\u00e4ndert","name":"Name","error":"Fehler","info":"Infos","yes":"Ja","no":"Nein","cancel":"Abbrechen","confirm":"Best\u00e4tigen","areyousure":"Sind Sie sicher?","closebuttontitle":"Schlie\u00dfen","unknownerror":"Unbekannter Fehler","file":"Datei","url":"URL","collapseall":"Alles einklappen","expandall":"Alles aufklappen"},"repository":{"type":"Typ","size":"Gr\u00f6\u00dfe","invalidjson":"Ung\u00fcltiger JSON-Text","nofilesattached":"Keine Datei","filepicker":"Dateiauswahl","logout":"Abmelden","nofilesavailable":"Keine Dateien vorhanden","norepositoriesavailable":"Sie k\u00f6nnen hier zur Zeit keine Dateien hochladen.","fileexistsdialogheader":"Datei bereits vorhanden","fileexistsdialog_editor":"Eine Datei mit diesem Namen wurde bereits an den Text angeh\u00e4ngt, den Sie gerade bearbeiten","fileexistsdialog_filemanager":"Eine Datei mit diesem Namen wurde bereits an den Text angeh\u00e4ngt","renameto":"Nach '{$a}' umbenennen","referencesexist":"Es gibt {$a} Links zu dieser Datei.","select":"W\u00e4hlen Sie"},"admin":{"confirmdeletecomments":"M\u00f6chten Sie die ausgew\u00e4hlten Kommentare wirklich l\u00f6schen?","confirmation":"Best\u00e4tigung"},"debug":{"debuginfo":"Debug-Info","line":"Zeile","stacktrace":"Stack trace"},"langconfig":{"labelsep":":\u00a0"}};
//]]>
</script>
<script>
//<![CDATA[
(function() {M.util.help_popups.setup(Y);
 M.util.js_pending('random6627957876a934'); Y.on('domready', function() { M.util.js_complete("init");  M.util.js_complete('random6627957876a934'); });
})();
//]]>
</script>

                    <div><a href="https://dl.min.uni-hamburg.de/de/impressum/"><i aria-hidden="true" class="icon fa fa-section fa-fw "></i>Impressum</a></div>
                    <div><a href="https://dl.min.uni-hamburg.de/de/anleitungen/#moodle"><i aria-hidden="true" class="icon fa fa-book fa-fw "></i>Anleitungen</a></div>
                    <div><a href="https://dl.min.uni-hamburg.de/de/faq/"><i aria-hidden="true" class="icon fa fa-circle-question fa-fw "></i>FAQ</a></div>
                    <div><a href="https://dl.min.uni-hamburg.de/de/status/"><i aria-hidden="true" class="icon fa fa-signal fa-fw "></i>Statusseite</a></div>
                    <div><a href="https://lernen.min.uni-hamburg.de/user/contactsitesupport.php"><i class="icon fa fa-envelope-o fa-fw " aria-hidden="true"  ></i>Support</a></div>
                    <p>© 2024 Universität Hamburg. Alle Rechte vorbehalten</p>
                </div>
                <div class="mobile-apps col-md-auto d-flex flex-column flex-sm-row justify-content-end align-items-start">
                    <a href="https://apps.apple.com/app/moodle-mobile/id633359593" target="_blank"><img src="https://lernen.min.uni-hamburg.de/theme/image.php/uhh/theme/1713524257/mobile/de/apple" alt="Laden im Apple App Store"/></a>
                    <a href="https://play.google.com/store/apps/details?id=com.moodle.moodlemobile" target="_blank"><img src="https://lernen.min.uni-hamburg.de/theme/image.php/uhh/theme/1713524257/mobile/de/google" alt="Jetzt bei Google Play"/></a>
                    <a href="https://f-droid.org/packages/godau.fynn.moodledirect" target="_blank"><img src="https://lernen.min.uni-hamburg.de/theme/image.php/uhh/theme/1713524257/mobile/de/fdroid" alt="Jetzt bei F-Droid"/></a>
                </div>
            </div>
        </div>
    </footer>
</div>


</body></html>