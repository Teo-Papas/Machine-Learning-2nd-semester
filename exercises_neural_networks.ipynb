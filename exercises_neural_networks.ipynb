{
  "cells": [
    {
      "cell_type": "code",
      "execution_count": 1,
      "id": "05f6bf57",
      "metadata": {
        "id": "05f6bf57"
      },
      "outputs": [],
      "source": [
        "# import some libraries we'll need\n",
        "import numpy as np\n",
        "from matplotlib import pyplot as plt\n",
        "import torch"
      ]
    },
    {
      "cell_type": "markdown",
      "id": "cf865ddf",
      "metadata": {
        "id": "cf865ddf"
      },
      "source": [
        "Suppose we have a neural network with two inputs, two hidden layers of 8 units each, ReLU activations (except for $\\hat y = f_\\text{out}(h_L)$) and one output.\n",
        "\n",
        "* Write an algorithm using python to compute the NN output $\\hat y$ given the input and the free parameters (weights and biases)\n",
        "* Write an algorithm to compute derivatives of the least squares loss $(y - \\hat y)^2$ with respect to all free parameters of the NN. This should be a python function that takes the free parameters, NN inputs $x$ and NN training targets $y$ as its own inputs. **Don't use automatic differntiation, finite differences or symbolic math tools: do the derivatives by hand!**\n",
        "* **Optional challenge problem (+25% of assignment max. points), skip for now if you get stuck**: Extend your derivative computation algorithm to work with any number of hidden layers, all of which can have different numbers of hidden units."
      ]
    },
    {
      "cell_type": "code",
      "execution_count": null,
      "id": "5cf6cd54",
      "metadata": {},
      "outputs": [],
      "source": [
        "import numpy as np\n",
        "\n",
        "def initialize_weights_and_biases(layer_sizes):\n",
        "    weights = []\n",
        "    biases = []\n",
        "    for i in range(len(layer_sizes) - 1):\n",
        "        weights.append(np.random.randn(layer_sizes[i], layer_sizes[i + 1]) * 0.01)\n",
        "        biases.append(np.zeros(layer_sizes[i + 1]))\n",
        "    return weights, biases\n",
        "\n",
        "def relu(x):\n",
        "    return np.maximum(0, x)\n",
        "\n",
        "def relu_derivative(x):\n",
        "    return np.where(x > 0, 1, 0)\n",
        "\n",
        "def forward_pass(x, y, weights, biases):\n",
        "    layer = len(weights)-1\n",
        "    h = x\n",
        "    listh = [h]\n",
        "    for i in range(layer):\n",
        "        W,b = weights[i+1], biases[i+1]\n",
        "        H = h@ W +b\n",
        "        if i < layer -1:\n",
        "            H = relu(H)\n",
        "            listh.append(H)\n",
        "            h = H\n",
        "        else:\n",
        "            y_hat = H\n",
        "    \n",
        "    return y_hat, listh\n",
        "\n",
        "def backward_propagation(x, y, y_hat, listh, weights, biases):\n",
        "    # Backward pass\n",
        "    loss =y - y_hat\n",
        "    layer=len(weights)-2\n",
        "    h = listh\n",
        "    listdWl = [], listdW =[]\n",
        "    listdbl = [], listdb =[]\n",
        "    listdhl = [], listdh =[]\n",
        "    de = -2 * (loss).T\n",
        "    dhL=weights[-1]\n",
        "    de_dhL=de.dot(dhL.T)\n",
        "    de_dbL = de_dhL.dot(relu_derivative(weights[layer].dot(h[layer-1])+biases[layer]))\n",
        "    de_dWl = de_dbL.dot(h[layer-1]).T\n",
        "    listdbl.append(de_dbL)\n",
        "    listdWl.append(de_dWl)\n",
        "    listdhl.append(de_dhL)\n",
        "    dhj= dhL\n",
        "    for i in range(layer, -1, -1):\n",
        "        de_dhj= de.dot(dhj)*relu_derivative(weights[i+1].dot(h[i])+biases[i+1])*weights[i+1]\n",
        "        de_dbj=de_dhj*relu_derivative(weights[i].dot(h[i-1])+biases[i])\n",
        "        de_dwj=de_dhj*relu_derivative(weights[i].dot(h[i-1])+biases[i])*h[i-1].T\n",
        "        listdb.append(de_dbj)\n",
        "        listdW.append(de_dwj)\n",
        "        listdh.append(de_dhj)\n",
        "        dhj = de_dhj\n",
        "    return listdW, listdb, listdh, listdWl, listdbl, listdhl"
      ]
    },
    {
      "cell_type": "code",
      "execution_count": 8,
      "id": "e3e0aefe",
      "metadata": {},
      "outputs": [
        {
          "ename": "ValueError",
          "evalue": "operands could not be broadcast together with shapes (1,2) (8,8) ",
          "output_type": "error",
          "traceback": [
            "\u001b[1;31m---------------------------------------------------------------------------\u001b[0m",
            "\u001b[1;31mValueError\u001b[0m                                Traceback (most recent call last)",
            "Cell \u001b[1;32mIn[8], line 6\u001b[0m\n\u001b[0;32m      4\u001b[0m \u001b[38;5;66;03m# Initialize the weights and biases\u001b[39;00m\n\u001b[0;32m      5\u001b[0m weights, biases \u001b[38;5;241m=\u001b[39m initialize_weights_and_biases(layer_sizes)\n\u001b[1;32m----> 6\u001b[0m y_hat, listh\u001b[38;5;241m=\u001b[39mforward_pass(x, y, weights, biases)\n\u001b[0;32m      7\u001b[0m listdW, listdb, listdh, listdWl, listdbl, listdhl\u001b[38;5;241m=\u001b[39mbackward_propagation(x, y, y_hat, listh, weights, biases)\n\u001b[0;32m      8\u001b[0m \u001b[38;5;66;03m#print('Input  x     :',x)\u001b[39;00m\n\u001b[0;32m      9\u001b[0m \u001b[38;5;66;03m#print('Gradient of weights:', grad_weights)\u001b[39;00m\n\u001b[0;32m     10\u001b[0m \u001b[38;5;66;03m#print('Gradient of biases:', grad_biases)\u001b[39;00m\n\u001b[0;32m     11\u001b[0m \u001b[38;5;66;03m#print('Output y_hat:', forward_pass(x, weights, biases))\u001b[39;00m\n",
            "Cell \u001b[1;32mIn[2], line 23\u001b[0m, in \u001b[0;36mforward_pass\u001b[1;34m(x, y, weights, biases)\u001b[0m\n\u001b[0;32m     21\u001b[0m \u001b[38;5;28;01mfor\u001b[39;00m i \u001b[38;5;129;01min\u001b[39;00m \u001b[38;5;28mrange\u001b[39m(layer):\n\u001b[0;32m     22\u001b[0m     W,b \u001b[38;5;241m=\u001b[39m weights[i\u001b[38;5;241m+\u001b[39m\u001b[38;5;241m1\u001b[39m], biases[i\u001b[38;5;241m+\u001b[39m\u001b[38;5;241m1\u001b[39m]\n\u001b[1;32m---> 23\u001b[0m     H \u001b[38;5;241m=\u001b[39m h\u001b[38;5;241m*\u001b[39m W \u001b[38;5;241m+\u001b[39mb\n\u001b[0;32m     24\u001b[0m     \u001b[38;5;28;01mif\u001b[39;00m i \u001b[38;5;241m<\u001b[39m layer \u001b[38;5;241m-\u001b[39m\u001b[38;5;241m1\u001b[39m:\n\u001b[0;32m     25\u001b[0m         H \u001b[38;5;241m=\u001b[39m relu(H)\n",
            "\u001b[1;31mValueError\u001b[0m: operands could not be broadcast together with shapes (1,2) (8,8) "
          ]
        }
      ],
      "source": [
        "layer_sizes = [2, 8, 8, 1]\n",
        "x = np.random.randn(1, 2)\n",
        "y = np.zeros((1, 1))\n",
        "# Initialize the weights and biases\n",
        "weights, biases = initialize_weights_and_biases(layer_sizes)\n",
        "y_hat, listh=forward_pass(x, y, weights, biases)\n",
        "listdW, listdb, listdh, listdWl, listdbl, listdhl=backward_propagation(x, y, y_hat, listh, weights, biases)\n",
        "#print('Input  x     :',x)\n",
        "#print('Gradient of weights:', grad_weights)\n",
        "#print('Gradient of biases:', grad_biases)\n",
        "#print('Output y_hat:', forward_pass(x, weights, biases))\n",
        "print(grad_weights[0].shape)\n",
        "print(grad_biases[0].shape)\n"
      ]
    },
    {
      "cell_type": "markdown",
      "id": "5ffd3fa8",
      "metadata": {
        "id": "5ffd3fa8"
      },
      "source": [
        "We'll now download a data file and extract 3 variables. Each is a NumPy array:\n",
        "* 'y' contains monthly values of the [Nino 3.4 ENSO index](https://climatedataguide.ucar.edu/climate-data/nino-sst-indices-nino-12-3-34-4-oni-and-tni), describing the [El Nino Southern Oscillation](https://en.wikipedia.org/wiki/El_Ni%C3%B1o%E2%80%93Southern_Oscillation) over time.\n",
        "* `x` contains empirical orthogonal function coefficients that describe the ocean temperature at the sea surface and the depth average over the top 300 meters, in the Indo-Pacific, North-Pacific and Atlantic regions. Essentially, the numbers in each row of $x$ summarize temperatures in the upper ocean across the globe. For details of how these are calculated, you can consult [this paper](https://www.nature.com/articles/s41586-019-1559-7) by Ham et al. Each row of `x` describes the ocean state 2 months before the corresponding element of `y`.\n",
        "* `t` contains the time in months since Jan. 1 1970 for each value of `y`. We can use this for plotting results but it won't appear in our calculations otherwise."
      ]
    },
    {
      "cell_type": "code",
      "execution_count": 11,
      "id": "4a64f4f7",
      "metadata": {
        "id": "4a64f4f7"
      },
      "outputs": [
        {
          "name": "stdout",
          "output_type": "stream",
          "text": [
            "Requirement already satisfied: gdown in c:\\users\\papas\\anaconda3\\lib\\site-packages (5.1.0)\n",
            "Requirement already satisfied: beautifulsoup4 in c:\\users\\papas\\anaconda3\\lib\\site-packages (from gdown) (4.12.2)\n",
            "Requirement already satisfied: filelock in c:\\users\\papas\\anaconda3\\lib\\site-packages (from gdown) (3.13.1)\n",
            "Requirement already satisfied: requests[socks] in c:\\users\\papas\\anaconda3\\lib\\site-packages (from gdown) (2.31.0)\n",
            "Requirement already satisfied: tqdm in c:\\users\\papas\\anaconda3\\lib\\site-packages (from gdown) (4.65.0)\n",
            "Requirement already satisfied: soupsieve>1.2 in c:\\users\\papas\\anaconda3\\lib\\site-packages (from beautifulsoup4->gdown) (2.5)\n",
            "Requirement already satisfied: charset-normalizer<4,>=2 in c:\\users\\papas\\anaconda3\\lib\\site-packages (from requests[socks]->gdown) (2.0.4)\n",
            "Requirement already satisfied: idna<4,>=2.5 in c:\\users\\papas\\anaconda3\\lib\\site-packages (from requests[socks]->gdown) (3.4)\n",
            "Requirement already satisfied: urllib3<3,>=1.21.1 in c:\\users\\papas\\anaconda3\\lib\\site-packages (from requests[socks]->gdown) (2.0.7)\n",
            "Requirement already satisfied: certifi>=2017.4.17 in c:\\users\\papas\\anaconda3\\lib\\site-packages (from requests[socks]->gdown) (2024.2.2)\n",
            "Requirement already satisfied: PySocks!=1.5.7,>=1.5.6 in c:\\users\\papas\\anaconda3\\lib\\site-packages (from requests[socks]->gdown) (1.7.1)\n",
            "Requirement already satisfied: colorama in c:\\users\\papas\\anaconda3\\lib\\site-packages (from tqdm->gdown) (0.4.6)\n"
          ]
        },
        {
          "name": "stderr",
          "output_type": "stream",
          "text": [
            "Downloading...\n",
            "From: https://drive.google.com/uc?id=1FUb-2lcAd0Y1ULjx5jB6UTMNDmGy3vZA\n",
            "To: c:\\Users\\papas\\Documents\\GitHub\\Machine-Learning-2nd-semester\\enso_and_pca.npz\n",
            "\n",
            "  0%|          | 0.00/242k [00:00<?, ?B/s]\n",
            "100%|██████████| 242k/242k [00:00<00:00, 1.56MB/s]\n",
            "100%|██████████| 242k/242k [00:00<00:00, 1.18MB/s]\n"
          ]
        }
      ],
      "source": [
        "# library for downloading files from google drive.\n",
        "!pip install gdown\n",
        "\n",
        "# download the data\n",
        "!gdown https://drive.google.com/uc?id=1FUb-2lcAd0Y1ULjx5jB6UTMNDmGy3vZA"
      ]
    },
    {
      "cell_type": "markdown",
      "id": "836d1aac",
      "metadata": {
        "id": "836d1aac"
      },
      "source": [
        "Normalize `y` and each column of `x` so they all have a mean of zero and a standard deviation of one. Overwrite the original variables `x,y` with the normalized ones, but keep track of what you've done, so you can convert your predictions back into original data units later on if needed."
      ]
    },
    {
      "cell_type": "code",
      "execution_count": 12,
      "id": "969ace86",
      "metadata": {
        "id": "969ace86"
      },
      "outputs": [],
      "source": [
        "# load the data\n",
        "with np.load('enso_and_pca.npz') as data:\n",
        "    t, x, y = data['t'], data['x'], data['y']\n",
        "\n",
        "mx = x.mean(axis=0)\n",
        "sx = x.std(axis=0)\n",
        "my = y.mean(axis=0)\n",
        "sy = y.mean(axis=0)\n",
        "x = (x - x.mean(axis=0))/x.std(axis=0)\n",
        "y = (y - y.mean())/y.std()"
      ]
    },
    {
      "cell_type": "markdown",
      "id": "0abec2f5",
      "metadata": {
        "id": "0abec2f5"
      },
      "source": [
        "Last time we wrote a loop by hand to cycle over the data. However, pytorch provides great utilities to do this for us, which will let us focus on what's new in each lesson instead. In particular, we're going to use the PyTorch Dataset and DataLoader classes."
      ]
    },
    {
      "cell_type": "code",
      "execution_count": 13,
      "id": "ba056261",
      "metadata": {
        "id": "ba056261"
      },
      "outputs": [
        {
          "ename": "ModuleNotFoundError",
          "evalue": "No module named 'torch'",
          "output_type": "error",
          "traceback": [
            "\u001b[1;31m---------------------------------------------------------------------------\u001b[0m",
            "\u001b[1;31mModuleNotFoundError\u001b[0m                       Traceback (most recent call last)",
            "Cell \u001b[1;32mIn[13], line 1\u001b[0m\n\u001b[1;32m----> 1\u001b[0m \u001b[38;5;28;01mfrom\u001b[39;00m \u001b[38;5;21;01mtorch\u001b[39;00m\u001b[38;5;21;01m.\u001b[39;00m\u001b[38;5;21;01mutils\u001b[39;00m\u001b[38;5;21;01m.\u001b[39;00m\u001b[38;5;21;01mdata\u001b[39;00m \u001b[38;5;28;01mimport\u001b[39;00m TensorDataset, DataLoader\n\u001b[0;32m      3\u001b[0m \u001b[38;5;66;03m# create PyTorch tensors for our inputs and target outputs\u001b[39;00m\n\u001b[0;32m      4\u001b[0m xt \u001b[38;5;241m=\u001b[39m torch\u001b[38;5;241m.\u001b[39mtensor(x)\n",
            "\u001b[1;31mModuleNotFoundError\u001b[0m: No module named 'torch'"
          ]
        }
      ],
      "source": [
        "from torch.utils.data import TensorDataset, DataLoader\n",
        "\n",
        "# create PyTorch tensors for our inputs and target outputs\n",
        "xt = torch.tensor(x)\n",
        "yt = torch.tensor(y)\n",
        "\n",
        "# use the first 1100 time points as training data\n",
        "xt_train, yt_train = xt[:1100], yt[:1100]\n",
        "\n",
        "# save the remaining data for testing\n",
        "xt_test, yt_test = xt[1100:], yt[1100:]\n",
        "\n",
        "dataset = TensorDataset(xt_train, yt_train)  # combine the inputs and outputs into a PyTorch Dataset object\n",
        "# create a dataloader to serve up batches of 8 data point for training\n",
        "data_loader = DataLoader(dataset, batch_size=8, shuffle=True)"
      ]
    },
    {
      "cell_type": "markdown",
      "id": "60572884",
      "metadata": {
        "id": "60572884"
      },
      "source": [
        "Now let's get the first 'batch' of data from the dataloader, and see what it looks like."
      ]
    },
    {
      "cell_type": "code",
      "execution_count": null,
      "id": "96b27757",
      "metadata": {
        "id": "96b27757",
        "scrolled": true
      },
      "outputs": [],
      "source": [
        "for x_batch, y_batch in data_loader:\n",
        "    print('shape of x_batch: {0}'.format(x_batch.shape) )\n",
        "    print('shape of y_batch: {0}'.format(y_batch.shape) )\n",
        "    break  # if we didn't have this line, the for loop would cycle through all the data"
      ]
    },
    {
      "cell_type": "markdown",
      "id": "505a8900",
      "metadata": {
        "id": "505a8900"
      },
      "source": [
        "Now use a for loop, iterating over batches from the data loader, to fit a linear regression $\\hat y = x\\cdot \\beta$ with least squares loss, by stochastic gradient descent. Refer back to the code you wrote from the last set of exercises for guidance (and feel free to copy-paste from your own previous homework).\n",
        "* Add an extra column of ones to `x` to incorporate a constant term\n",
        "* Don't forget to set `requires_grad = True` when initializing `beta`\n",
        "* Choose how to initialize $\\beta$. All zeros? Random? Does it make much of a difference here?\n",
        "* As before, don't forget to use `with torch.no_grad():` when updating parameters\n",
        "* Store the loss at each iteration of the loop.\n",
        "* Does the loss decrease on the training data? Do you get a positive correlation between $y$ and $\\hat y$ at the end on the training data?\n",
        "* See if you can get a better result by adjusting the initialization of free parameters or the learning rate"
      ]
    },
    {
      "cell_type": "code",
      "execution_count": null,
      "id": "36c812da",
      "metadata": {
        "id": "36c812da"
      },
      "outputs": [],
      "source": []
    },
    {
      "cell_type": "markdown",
      "id": "0ea3cda8",
      "metadata": {
        "id": "0ea3cda8"
      },
      "source": [
        "Now repeat the process, but instead of a linear model we'll use a neural network with two hidden layers of 32 units each, and the ReLU activation function $\\phi(z) = \\max(0, z)$. Again we'll use least squares loss and a batch size of 8.\n",
        "\n",
        "**Don't** use PyTorch's built-in classes for this just yet. Instead:\n",
        "* Define tensors of the correct size and data type (check `x.dtype`) for each variable containing free parameters (weights and biases) of your neural network. Remember to set `requires_grad = True` where needed.\n",
        "* For each batch of data, compute the hidden state activations $h_1$ as a function of $W_1, b_1, x$\n",
        "* Then compute $h_2$, $\\hat y$ and $e=\\ell(y, \\hat y)$.\n",
        "* Call `e.backward()` to compute derivatives of $e$ with respect to the free variables of your neural network, using backward-mode differentiation.\n",
        "* Now update all free parameters based on the computed derivatives and the learning rate, just as you did for the linear regression example. Remember to use `with torch.no_grad():`\n",
        "* Plot the convergence of the loss function over iterations. Are you getting a better fit than with the linear regression?\n",
        "* How did you initialize? Does it make a difference now?"
      ]
    },
    {
      "cell_type": "code",
      "execution_count": null,
      "id": "35233fea",
      "metadata": {
        "id": "35233fea"
      },
      "outputs": [],
      "source": []
    },
    {
      "cell_type": "markdown",
      "id": "fb8893b4",
      "metadata": {
        "id": "fb8893b4"
      },
      "source": [
        "Now plot the target ENSO 3.4 index values $y$ against the predictions from the linear regression and the neural network. Clearly mark the boundary between training and testing data."
      ]
    },
    {
      "cell_type": "code",
      "execution_count": null,
      "id": "f5c66c99",
      "metadata": {
        "id": "f5c66c99"
      },
      "outputs": [],
      "source": []
    },
    {
      "cell_type": "markdown",
      "id": "d06f5199",
      "metadata": {
        "id": "d06f5199"
      },
      "source": [
        "What are mean square errors for the NN and linear regression, in original data units, on the testing and training data? How about Pearson's correlation coefficient?"
      ]
    },
    {
      "cell_type": "code",
      "execution_count": null,
      "id": "f8bc2080",
      "metadata": {
        "id": "f8bc2080"
      },
      "outputs": [],
      "source": []
    },
    {
      "cell_type": "markdown",
      "id": "c1415976",
      "metadata": {
        "id": "c1415976"
      },
      "source": [
        "Now we'll do the same thing, but defining a python object class for our neural network, and some built-in PyTorch classes:"
      ]
    },
    {
      "cell_type": "code",
      "execution_count": null,
      "id": "9e55053d",
      "metadata": {
        "id": "9e55053d"
      },
      "outputs": [],
      "source": [
        "import torch.nn as nn\n",
        "import torch.nn.functional as F\n",
        "\n",
        "class Net(nn.Module):\n",
        "    def __init__(self, n_inputs=46, n_outputs=1, n_hidden=32):\n",
        "        super(Net, self).__init__()\n",
        "\n",
        "        self.fc1 = nn.Linear(n_inputs, n_hidden)  # 5*5 from image dimension\n",
        "        self.fc2 = nn.Linear(n_hidden, n_hidden)\n",
        "        self.fc3 = nn.Linear(n_hidden, n_outputs)\n",
        "\n",
        "    def forward(self, x):\n",
        "        x = F.relu(self.fc1(x))\n",
        "        x = F.relu(self.fc2(x))\n",
        "        x = self.fc3(x)\n",
        "        return x"
      ]
    },
    {
      "cell_type": "markdown",
      "id": "73f2b21e",
      "metadata": {
        "id": "73f2b21e"
      },
      "source": [
        "As described in the first two lectures, we are now building our neural net out of composable functions that we can stack together like legos.\n",
        "\n",
        "PyTorch also lets us iterate in loops over the trainable parameters of the model. Note how `requires_grad` was correctly set by default for the learnable parameters."
      ]
    },
    {
      "cell_type": "code",
      "execution_count": null,
      "id": "3909bd51",
      "metadata": {
        "id": "3909bd51"
      },
      "outputs": [],
      "source": [
        "net = Net()\n",
        "for name, param in net.named_parameters():\n",
        "    print(f'{name}: requires_grad={param.requires_grad}')"
      ]
    },
    {
      "cell_type": "markdown",
      "id": "f6e3ba79",
      "metadata": {
        "id": "f6e3ba79"
      },
      "source": [
        "When we use our network object like a function, the input gets passed to the `forward()` method:"
      ]
    },
    {
      "cell_type": "code",
      "execution_count": null,
      "id": "ccfa6215",
      "metadata": {
        "id": "ccfa6215",
        "scrolled": true
      },
      "outputs": [],
      "source": [
        "print(net(torch.rand(46)))"
      ]
    },
    {
      "cell_type": "markdown",
      "id": "3ae38f0f",
      "metadata": {
        "id": "3ae38f0f"
      },
      "source": [
        "We can also provide it with multiple inputs to process independently:"
      ]
    },
    {
      "cell_type": "code",
      "execution_count": null,
      "id": "930f5dae",
      "metadata": {
        "id": "930f5dae"
      },
      "outputs": [],
      "source": [
        "print(net(torch.rand(4,46)))"
      ]
    },
    {
      "cell_type": "markdown",
      "id": "72ffafd4",
      "metadata": {
        "id": "72ffafd4"
      },
      "source": [
        "Now redo the training loop from before, but now update the parameters using an inner loop over `net.named_parameters` (remember to use `torch.no_grad()` when updating parameters, and to zero out the derivatives after you do so).\n",
        "\n",
        "Instead of calling `var.grad.zero()` on each trainable variable, we can now also simply call `net.zero_grad()` once.\n",
        "\n",
        "Look up the default initialization of weights and biases in the `nn.Linear` objects you used."
      ]
    },
    {
      "cell_type": "code",
      "execution_count": null,
      "id": "31d300ee",
      "metadata": {
        "id": "31d300ee"
      },
      "outputs": [],
      "source": []
    },
    {
      "cell_type": "markdown",
      "id": "8698bfb0",
      "metadata": {
        "id": "8698bfb0"
      },
      "source": [
        "Change the `Net()` class above to allow an adjustable number of hidden layers to be specified when initializing the object, and to specify a different number of hidden units for each hidden layer. Can you get better results on the testing data by adjusting this?"
      ]
    },
    {
      "cell_type": "code",
      "execution_count": null,
      "id": "f796dcc5",
      "metadata": {
        "id": "f796dcc5"
      },
      "outputs": [],
      "source": []
    }
  ],
  "metadata": {
    "colab": {
      "provenance": []
    },
    "kernelspec": {
      "display_name": "Python 3 (ipykernel)",
      "language": "python",
      "name": "python3"
    },
    "language_info": {
      "codemirror_mode": {
        "name": "ipython",
        "version": 3
      },
      "file_extension": ".py",
      "mimetype": "text/x-python",
      "name": "python",
      "nbconvert_exporter": "python",
      "pygments_lexer": "ipython3",
      "version": "3.11.7"
    }
  },
  "nbformat": 4,
  "nbformat_minor": 5
}
